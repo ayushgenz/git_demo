{
  "nbformat": 4,
  "nbformat_minor": 0,
  "metadata": {
    "colab": {
      "name": "Untitled1.ipynb",
      "provenance": []
    },
    "kernelspec": {
      "name": "python3",
      "display_name": "Python 3"
    },
    "language_info": {
      "name": "python"
    }
  },
  "cells": [
    {
      "cell_type": "markdown",
      "source": [
        "1.Find words with both alphabets and numbers in the given string \"Emma25 is Data scientist50 and AI Expert\""
      ],
      "metadata": {
        "id": "Pbpzd-zmbwnC"
      }
    },
    {
      "cell_type": "code",
      "execution_count": 2,
      "metadata": {
        "id": "ywLqhS7ZZNnF",
        "colab": {
          "base_uri": "https://localhost:8080/"
        },
        "outputId": "3f3d8d74-5e79-4f21-c501-ffd3a3bc9ae0"
      },
      "outputs": [
        {
          "output_type": "stream",
          "name": "stdout",
          "text": [
            "Emma25\n",
            "scientist50\n"
          ]
        }
      ],
      "source": [
        "st=\"Emma25 is Data scientist50 and AI Expert\"\n",
        "st=st.split(' ')\n",
        "for i in st:\n",
        "  for j in i:\n",
        "    if j.isnumeric():\n",
        "      print(i)\n",
        "      break"
      ]
    },
    {
      "cell_type": "markdown",
      "source": [
        "2.Create a string made of the first, middle and last character (take inputs from users)"
      ],
      "metadata": {
        "id": "u__e1-SJbtBD"
      }
    },
    {
      "cell_type": "code",
      "source": [
        "data=input(\"Enter any sentence\")\n",
        "dt=data.split(' ')\n",
        "k=0\n",
        "for i in dt:\n",
        "  for j in i:\n",
        "      \n",
        "      break\n",
        "print(data[0],da)"
      ],
      "metadata": {
        "id": "SRwcAQb5Zev3",
        "colab": {
          "base_uri": "https://localhost:8080/"
        },
        "outputId": "ba221116-2f50-4563-a3d0-9c46237e84d7"
      },
      "execution_count": 4,
      "outputs": [
        {
          "output_type": "stream",
          "name": "stdout",
          "text": [
            "Enter any sentenceAyush Kumar Singh Rawat\n",
            "A R\n"
          ]
        }
      ]
    },
    {
      "cell_type": "markdown",
      "source": [
        "3.Use a loop to display all the elements from a given list present at the  odd index positions(take inputs from users)"
      ],
      "metadata": {
        "id": "Hi_s9Va-boml"
      }
    },
    {
      "cell_type": "code",
      "source": [
        "data=input('Enter data:')\n"
      ],
      "metadata": {
        "id": "Zc525lKWZey8"
      },
      "execution_count": null,
      "outputs": []
    },
    {
      "cell_type": "markdown",
      "source": [
        "4.Reverse a given integer number 789356"
      ],
      "metadata": {
        "id": "CDNuliBabkN6"
      }
    },
    {
      "cell_type": "code",
      "source": [
        "ent=789356\n",
        "s=str(ent)\n",
        "print(s[-1],s[-2],s[-3],s[-4],s[-5],s[-6])"
      ],
      "metadata": {
        "id": "LybICjuEZfET",
        "colab": {
          "base_uri": "https://localhost:8080/"
        },
        "outputId": "07b84462-cb22-499b-bc1d-0b7bf2d9290f"
      },
      "execution_count": 28,
      "outputs": [
        {
          "output_type": "stream",
          "name": "stdout",
          "text": [
            "6 5 3 9 8 7\n"
          ]
        }
      ]
    },
    {
      "cell_type": "markdown",
      "source": [
        "5. Delete all the even elements present in the list 789356"
      ],
      "metadata": {
        "id": "45Ut68OTbfo8"
      }
    },
    {
      "cell_type": "code",
      "source": [
        ""
      ],
      "metadata": {
        "id": "AB2H0xYqZfk8"
      },
      "execution_count": null,
      "outputs": []
    },
    {
      "cell_type": "markdown",
      "source": [
        "6.Replace each special symbol with # in the following string.\n",
        "\"EM#%ma25 is D*ata scien$%tist50!$ and AI Ex**pert\""
      ],
      "metadata": {
        "id": "E1jt2eapbZgb"
      }
    },
    {
      "cell_type": "code",
      "source": [
        "s=\"EM#%ma25 is Data scien and AI Ex*pert\"\n",
        "a=s.replace('%','#')\n",
        "print(a.replace('*','#'))"
      ],
      "metadata": {
        "id": "06Xv_DZgZpp_",
        "colab": {
          "base_uri": "https://localhost:8080/"
        },
        "outputId": "d4b44623-d021-4f9a-c1aa-5cd8885c0ebe"
      },
      "execution_count": 43,
      "outputs": [
        {
          "output_type": "stream",
          "name": "stdout",
          "text": [
            "EM##ma25 is Data scien and AI Ex#pert\n"
          ]
        }
      ]
    },
    {
      "cell_type": "code",
      "source": [
        ""
      ],
      "metadata": {
        "id": "0tjHA__hN5re"
      },
      "execution_count": null,
      "outputs": []
    }
  ]
}